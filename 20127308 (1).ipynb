{
 "cells": [
  {
   "cell_type": "code",
   "execution_count": 181,
   "metadata": {},
   "outputs": [],
   "source": [
    "import numpy as np\n",
    "import random\n",
    "num_simulations = 10000"
   ]
  },
  {
   "attachments": {},
   "cell_type": "markdown",
   "metadata": {},
   "source": [
    "# <b>CÂU 1</b>\n",
    "## <b>LÝ THUYẾT</b>\n",
    "### a) Biết router R1 bị hỏng, tính xác suất A, B liên lạc được.\n",
    "- Đầu tiên ta sẽ tính xác suất A, B không liên lạc được:\n",
    "1. R2 bị hỏng = 0.15\n",
    "2. R2 không bị hỏng, R3 bị hỏng và R4 bị hỏng = 0.85 * 0.2 * 0.25 = 0.0425\n",
    "- Kết quả sẽ là phần bù của tổng 2 trường hợp trên:\n",
    "KQ = 1 - 0.15 - 0.0425 = 0.8075\n",
    "### b) Tính xác suất A, B liên lạc được.\n",
    "- Đầu tiên ta sẽ tính xác suất A, B không liên lạc được:\n",
    "1. R1 bị hỏng và R2 bị hỏng = 0.1 * 0.15 = 0.015\n",
    "2. R1 bị hỏng, R2 không bị hỏng, R3 bị hỏng và R4 bị hỏng = 0,1 * 0.85 * 0.2 * 0.25 = 0.00425\n",
    "- Kết quả sẽ là phần bù của tổng 2 trường hợp trên:\n",
    "KQ = 1 - 0.015 - 0.00425 = 0.98075\n",
    "## <b>MÔ PHỎNG</b>"
   ]
  },
  {
   "attachments": {},
   "cell_type": "markdown",
   "metadata": {},
   "source": [
    "### a) Biết router R1 bị hỏng, tính xác suất A, B liên lạc được."
   ]
  },
  {
   "cell_type": "code",
   "execution_count": 182,
   "metadata": {},
   "outputs": [
    {
     "name": "stdout",
     "output_type": "stream",
     "text": [
      "Estimated probability of success: 0.8051\n"
     ]
    }
   ],
   "source": [
    "# Define the probabilities of R1, R2, R3 and R4 failing\n",
    "P_R1_fails = 0.1\n",
    "P_R2_fails = 0.15\n",
    "P_R3_fails = 0.2\n",
    "P_R4_fails = 0.25\n",
    "\n",
    "# Set the number of simulation runs\n",
    "num_simulations = 10000\n",
    "\n",
    "# Initialize the counter for the number of successful runs\n",
    "count_success = 0\n",
    "\n",
    "# Run the simulation\n",
    "for i in range(num_simulations):\n",
    "    # Simulate the outcome of R3 and R4\n",
    "    outcome_R2 = np.random.uniform() >= P_R2_fails\n",
    "    outcome_R3 = np.random.uniform() >= P_R3_fails\n",
    "    outcome_R4 = np.random.uniform() >= P_R4_fails\n",
    "    \n",
    "    # Check if success\n",
    "    if outcome_R2 and (outcome_R3 or outcome_R4):\n",
    "        count_success += 1\n",
    "\n",
    "# Calculate the estimated probability of success\n",
    "estimated_P_success = count_success / num_simulations\n",
    "\n",
    "# Print the estimated probability\n",
    "print(\"Estimated probability of success:\", estimated_P_success)"
   ]
  },
  {
   "attachments": {},
   "cell_type": "markdown",
   "metadata": {},
   "source": [
    "### b) Tính xác suất A, B liên lạc được."
   ]
  },
  {
   "cell_type": "code",
   "execution_count": 183,
   "metadata": {},
   "outputs": [
    {
     "name": "stdout",
     "output_type": "stream",
     "text": [
      "Estimated probability of success: 0.9802\n"
     ]
    }
   ],
   "source": [
    "# Define the probabilities of R1, R2, R3 and R4 failing\n",
    "P_R1_fails = 0.1\n",
    "P_R2_fails = 0.15\n",
    "P_R3_fails = 0.2\n",
    "P_R4_fails = 0.25\n",
    "\n",
    "# Set the number of simulation runs\n",
    "num_simulations = 10000\n",
    "\n",
    "# Initialize the counter for the number of successful runs\n",
    "count_success = 0\n",
    "\n",
    "# Run the simulation\n",
    "for i in range(num_simulations):\n",
    "    # Simulate the outcome of R1 - R4\n",
    "    outcome_R1 = np.random.uniform() >= P_R1_fails\n",
    "    outcome_R2 = np.random.uniform() >= P_R2_fails\n",
    "    outcome_R3 = np.random.uniform() >= P_R3_fails\n",
    "    outcome_R4 = np.random.uniform() >= P_R4_fails\n",
    "    \n",
    "    # Check if success\n",
    "    if outcome_R1 or (outcome_R2 and (outcome_R3 or outcome_R4)):\n",
    "        count_success += 1\n",
    "\n",
    "# Calculate the estimated probability of success\n",
    "estimated_P_success = count_success / num_simulations\n",
    "\n",
    "# Print the estimated probability\n",
    "print(\"Estimated probability of success:\", estimated_P_success)"
   ]
  },
  {
   "attachments": {},
   "cell_type": "markdown",
   "metadata": {},
   "source": [
    "# <b>CÂU 2</b>\n",
    "## <b>LÝ THUYẾT</b>\n",
    "- Tạo 1 ma trận P là xác suất của con chuột tại các phòng: ở lại hoặc di chuyển sang các phòng khác\n",
    "- Tạo 1 mảng initial_state của con chuột tại ngày đầu tiên\n",
    "- current_state = initial_state @ P@P@P@P@P (số lần P là số ngày)\n",
    "\n",
    "### a) Giả sử con chuột đang ở Phòng 1, tính xác suất con chuột vẫn ở Phòng 1 sau đó 5 ngày."
   ]
  },
  {
   "cell_type": "code",
   "execution_count": 184,
   "metadata": {},
   "outputs": [
    {
     "name": "stdout",
     "output_type": "stream",
     "text": [
      "Probability of mouse being in room 1 after 5 days: 0.20334201388888887\n"
     ]
    }
   ],
   "source": [
    "# Define the transition probability matrix\n",
    "P = np.array([[0.5, 0.5, 0  , 0],\n",
    "              [0.25, 0.25, 0.25, 0.25],\n",
    "              [0  , 1/3, 1/3, 1/3],\n",
    "              [0  , 1/3, 1/3, 1/3]])\n",
    "# Define the initial state vector\n",
    "initial_state = np.array([1,0,0,0])\n",
    "\n",
    "# Compute the state vector after 5 days\n",
    "state_after_5_days = initial_state@np.linalg.matrix_power(P, 5)\n",
    "\n",
    "# Print the probability of the mouse being in room 1 after 5 days\n",
    "print(\"Probability of mouse being in room 1 after 5 days:\", state_after_5_days[0])"
   ]
  },
  {
   "attachments": {},
   "cell_type": "markdown",
   "metadata": {},
   "source": [
    "### b) Sau rất nhiều ngày, xác suất con chuột ở trong mỗi phòng là bao nhiêu?"
   ]
  },
  {
   "cell_type": "code",
   "execution_count": 185,
   "metadata": {},
   "outputs": [
    {
     "name": "stdout",
     "output_type": "stream",
     "text": [
      "Probability of mouse being in room 1 after 100 days: 0.16666666666666613\n",
      "Probability of mouse being in room 2 after 100 days: 0.3333333333333322\n",
      "Probability of mouse being in room 3 after 100 days: 0.24999999999999917\n",
      "Probability of mouse being in room 4 after 100 days: 0.24999999999999917\n"
     ]
    }
   ],
   "source": [
    "# Define the transition probability matrix\n",
    "P = np.array([[0.5, 0.5, 0  , 0],\n",
    "              [0.25, 0.25, 0.25, 0.25],\n",
    "              [0  , 1/3, 1/3, 1/3],\n",
    "              [0  , 1/3, 1/3, 1/3]])\n",
    "\n",
    "# Define the initial state vector\n",
    "initial_state = np.array([1,0,0,0])\n",
    "\n",
    "# Compute the state vector after 100 days\n",
    "state_after_100_days = initial_state@np.linalg.matrix_power(P, 100)\n",
    "\n",
    "# Print the probability of the mouse being in rooms after 100 days\n",
    "print(\"Probability of mouse being in room 1 after 100 days:\", state_after_100_days[0])\n",
    "print(\"Probability of mouse being in room 2 after 100 days:\", state_after_100_days[1])\n",
    "print(\"Probability of mouse being in room 3 after 100 days:\", state_after_100_days[2])\n",
    "print(\"Probability of mouse being in room 4 after 100 days:\", state_after_100_days[3])"
   ]
  },
  {
   "attachments": {},
   "cell_type": "markdown",
   "metadata": {},
   "source": [
    "### c) Giả sử con chuột ở mỗi phòng không quá 3 ngày liên tiếp (nghĩa là nếu con chuột ở một phòng nào đó đã 3 ngày liên tiếp thì ngày hôm sau sẽ chuyển đến phòng bên với xác suất đều mà không ở lại phòng đó nữa), làm lại Câu (a).\n",
    "### d) Tương tự Câu (c), làm lại Câu (b)."
   ]
  },
  {
   "attachments": {},
   "cell_type": "markdown",
   "metadata": {},
   "source": [
    "## <b>MÔ PHỎNG</b>\n",
    "### a) Giả sử con chuột đang ở Phòng 1, tính xác suất con chuột vẫn ở Phòng 1 sau đó 5 ngày."
   ]
  },
  {
   "cell_type": "code",
   "execution_count": 186,
   "metadata": {},
   "outputs": [
    {
     "name": "stdout",
     "output_type": "stream",
     "text": [
      "Estimated probability of the mouse being in room 1 after 5 days: 0.20262\n"
     ]
    }
   ],
   "source": [
    "# Define transition matrix\n",
    "P = np.array([[0.5, 0.5, 0  , 0],\n",
    "              [0.25, 0.25, 0.25, 0.25],\n",
    "              [0  , 1/3, 1/3, 1/3],\n",
    "              [0  , 1/3, 1/3, 1/3]])\n",
    "\n",
    "# Initialize the starting room as room 1\n",
    "current_state = np.array([1, 0, 0, 0])\n",
    "\n",
    "# Define number of simulations\n",
    "num_simulations = 100000\n",
    "\n",
    "# Define function to simulate one day\n",
    "def simulate_one_day(state):\n",
    "    new_state = np.zeros_like(state)\n",
    "    for i in range(len(state)):\n",
    "        # Calculate probability of moving to new state\n",
    "        prob = P[i, :].dot(state)\n",
    "        # Randomly determine whether to move or stay\n",
    "        if np.random.uniform() < prob:\n",
    "            new_state[i] = 1\n",
    "    return new_state\n",
    "\n",
    "# Simulate multiple days and calculate average probability of being in state [1, 0, 0, 0]\n",
    "total_prob = 0\n",
    "## Initialize the counter for the number of times the mouse is in room 1\n",
    "#count_room1 = 0\n",
    "for i in range(num_simulations):\n",
    "    current_state = np.array([1, 0, 0, 0])\n",
    "    for j in range(5):\n",
    "        current_state = simulate_one_day(current_state)\n",
    "    total_prob += current_state[0]\n",
    "average_prob = total_prob / num_simulations\n",
    "\n",
    "print(\"Estimated probability of the mouse being in room 1 after 5 days:\", average_prob)"
   ]
  },
  {
   "attachments": {},
   "cell_type": "markdown",
   "metadata": {},
   "source": [
    "### b) Sau rất nhiều ngày, xác suất con chuột ở trong mỗi phòng là bao nhiêu?"
   ]
  },
  {
   "cell_type": "code",
   "execution_count": 187,
   "metadata": {},
   "outputs": [
    {
     "name": "stdout",
     "output_type": "stream",
     "text": [
      "Average probability of being in state [1, 0, 0, 0] after 100 days: 0.167\n",
      "Average probability of being in state [1, 0, 0, 0] after 100 days: 0.3336\n",
      "Average probability of being in state [1, 0, 0, 0] after 100 days: 0.2505\n",
      "Average probability of being in state [1, 0, 0, 0] after 100 days: 0.2489\n"
     ]
    }
   ],
   "source": [
    "# Define transition matrix\n",
    "P = np.array([[0.5, 0.5, 0  , 0],\n",
    "              [0.25, 0.25, 0.25, 0.25],\n",
    "              [0  , 1/3, 1/3, 1/3],\n",
    "              [0  , 1/3, 1/3, 1/3]])\n",
    "\n",
    "# Define initial state\n",
    "current_state = np.array([1, 0, 0, 0])\n",
    "\n",
    "# Define number of simulations\n",
    "num_simulations = 10000\n",
    "\n",
    "# Define function to simulate one day\n",
    "# def simulate_one_day(state):\n",
    "#     new_state = np.zeros_like(state)\n",
    "#     for i in range(len(state)):\n",
    "#         # Calculate probability of moving to new state\n",
    "#         prob = P[i, :].dot(state)\n",
    "#         # Randomly determine whether to move or stay\n",
    "#         if np.random.uniform() < prob:\n",
    "#             new_state[i] = 1\n",
    "#     return new_state\n",
    "def simulate_one_day(state):\n",
    "    new_state = np.zeros_like(state)\n",
    "    for i in range(len(state)):\n",
    "        if state[i] == 1:\n",
    "            # Calculate probability of moving to new state\n",
    "            prob = P[i, :]\n",
    "            # Randomly determine whether to move or stay\n",
    "            m = np.random.uniform()\n",
    "            if m <= prob[0]:\n",
    "                new_state[0] = 1\n",
    "                break\n",
    "            if m <= prob[0] + prob[1]:\n",
    "                new_state[1] = 1\n",
    "                break  \n",
    "            if m <= prob[0] + prob[1] + prob[2]:\n",
    "                new_state[2] = 1\n",
    "                break\n",
    "            else:\n",
    "                new_state[3] = 1\n",
    "                break \n",
    "    return new_state\n",
    "# Simulate multiple days and calculate average probability of being in state [1, 0, 0, 0]\n",
    "total_prob_1 = 0\n",
    "total_prob_2 = 0\n",
    "total_prob_3 = 0\n",
    "total_prob_4 = 0\n",
    "\n",
    "for i in range(num_simulations):\n",
    "    current_state = np.array([1, 0, 0, 0])\n",
    "    for j in range(100):\n",
    "        # print(current_state)\n",
    "        current_state = simulate_one_day(current_state)\n",
    "    total_prob_1 += current_state[0]\n",
    "    total_prob_2 += current_state[1]\n",
    "    total_prob_3 += current_state[2]\n",
    "    total_prob_4 += current_state[3]\n",
    "    \n",
    "average_prob_1 = total_prob_1 / num_simulations\n",
    "average_prob_2 = total_prob_2 / num_simulations\n",
    "average_prob_3 = total_prob_3 / num_simulations\n",
    "average_prob_4 = total_prob_4 / num_simulations\n",
    "\n",
    "print(\"Average probability of being in state [1, 0, 0, 0] after 100 days:\", average_prob_1)\n",
    "print(\"Average probability of being in state [1, 0, 0, 0] after 100 days:\", average_prob_2)\n",
    "print(\"Average probability of being in state [1, 0, 0, 0] after 100 days:\", average_prob_3)\n",
    "print(\"Average probability of being in state [1, 0, 0, 0] after 100 days:\", average_prob_4)"
   ]
  },
  {
   "attachments": {},
   "cell_type": "markdown",
   "metadata": {},
   "source": [
    "### c) Giả sử con chuột ở mỗi phòng không quá 3 ngày liên tiếp (nghĩa là nếu con chuột ở một phòng nào đó đã 3 ngày liên tiếp thì ngày hôm sau sẽ chuyển đến phòng bên với xác suất đều mà không ở lại phòng đó nữa), làm lại Câu (a)."
   ]
  },
  {
   "cell_type": "code",
   "execution_count": 188,
   "metadata": {},
   "outputs": [
    {
     "name": "stdout",
     "output_type": "stream",
     "text": [
      "Estimated probability of the mouse being in room 1 after 5 days: 0.1938\n"
     ]
    }
   ],
   "source": [
    "#2C\n",
    "import random\n",
    "\n",
    "# Define the transition probabilities\n",
    "transition_probs = [[0.5, 0.25, 0  , 0],\n",
    "                    [0.5, 0.25, 1/3, 1/3],\n",
    "                    [0  , 0.25, 1/3, 1/3],\n",
    "                    [0  , 0.25, 1/3, 1/3]]\n",
    "transition_probs = [[0.5, 0.25, 0  , 0],\n",
    "                    [0.5, 0.25, 1/3, 1/3],\n",
    "                    [0  , 0.25, 1/3, 1/3],\n",
    "                    [0  , 0.25, 1/3, 1/3]]\n",
    "\n",
    "# Define the number of simulations\n",
    "num_simulations = 10000\n",
    "\n",
    "# Define the number of days\n",
    "num_days = 5\n",
    "\n",
    "# Initialize the counter for the number of times the mouse is in room 1\n",
    "count_room1 = 0\n",
    "\n",
    "# Run the simulation\n",
    "for i in range(num_simulations):\n",
    "    # Initialize the starting room as room 1\n",
    "    current_room = 0\n",
    "    \n",
    "    # Initialize the counter for the number of days in the current room\n",
    "    days_in_current_room = 0\n",
    "    \n",
    "    # Simulate the mouse's movement for num_days\n",
    "    for day in range(num_days):\n",
    "        # Determine the next room using the transition probabilities\n",
    "        next_room = random.choices(range(4), transition_probs[current_room])[0]\n",
    "        \n",
    "        # Check if the mouse has been in the current room for 3 consecutive days\n",
    "        if days_in_current_room == 3:\n",
    "            # Choose a new room to move to, with equal probability\n",
    "            next_room = random.choices([i for i in range(4) if i != current_room])[0]\n",
    "            \n",
    "            # Reset the counter for the number of days in the current room\n",
    "            days_in_current_room = 0\n",
    "        # if current_room == 0 and next_room == 2: print('abcv')\n",
    "        # Update the current room and the counter for the number of days in the current room\n",
    "        current_room = next_room\n",
    "        days_in_current_room += 1\n",
    "    \n",
    "    # Check if the mouse is in room 1 at the end of the simulation\n",
    "    if current_room == 0:\n",
    "        count_room1 += 1\n",
    "\n",
    "# Calculate the estimated probability of the mouse being in room 1 after 5 days\n",
    "prob_room1 = count_room1 / num_simulations\n",
    "\n",
    "# Print the estimated probability\n",
    "print(\"Estimated probability of the mouse being in room 1 after 5 days:\", prob_room1)\n"
   ]
  },
  {
   "attachments": {},
   "cell_type": "markdown",
   "metadata": {},
   "source": [
    "### d) Tương tự Câu (c), làm lại Câu (b)."
   ]
  },
  {
   "cell_type": "code",
   "execution_count": 189,
   "metadata": {},
   "outputs": [
    {
     "name": "stdout",
     "output_type": "stream",
     "text": [
      "Estimated probability of the mouse being in room 1 after days: 0.2047\n",
      "Estimated probability of the mouse being in room 2 after 500 days: 0.261\n",
      "Estimated probability of the mouse being in room 3 after 500 days: 0.2673\n",
      "Estimated probability of the mouse being in room 4 after 500 days: 0.267\n"
     ]
    }
   ],
   "source": [
    "#2D\n",
    "import random\n",
    "\n",
    "# Define the transition probabilities\n",
    "transition_probs = [[0.5, 0.25, 0  , 0],\n",
    "                    [0.5, 0.25, 1/3, 1/3],\n",
    "                    [0  , 0.25, 1/3, 1/3],\n",
    "                    [0  , 0.25, 1/3, 1/3]]\n",
    "\n",
    "# Define the number of simulations\n",
    "num_simulations = 10000\n",
    "\n",
    "# Define the number of days\n",
    "num_days = 5\n",
    "\n",
    "# Initialize the counter for the number of times the mouse is in room 1\n",
    "count_room1 = 0\n",
    "count_room2 = 0\n",
    "count_room3 = 0\n",
    "count_room4 = 0\n",
    "\n",
    "# Run the simulation\n",
    "for i in range(num_simulations):\n",
    "    # Initialize the starting room as room 1\n",
    "    current_room = 0\n",
    "    \n",
    "    # Initialize the counter for the number of days in the current room\n",
    "    days_in_current_room = 0\n",
    "    \n",
    "    # Simulate the mouse's movement for num_days\n",
    "    for day in range(num_days):\n",
    "        # Determine the next room using the transition probabilities\n",
    "        next_room = random.choices(range(4), transition_probs[current_room])[0]\n",
    "        \n",
    "        # Check if the mouse has been in the current room for 3 consecutive days\n",
    "        if days_in_current_room == 3:\n",
    "            # Choose a new room to move to, with equal probability\n",
    "            next_room = random.choices([i for i in range(4) if i != current_room])[0]\n",
    "            \n",
    "            # Reset the counter for the number of days in the current room\n",
    "            days_in_current_room = 0\n",
    "        \n",
    "        # Update the current room and the counter for the number of days in the current room\n",
    "        current_room = next_room\n",
    "        days_in_current_room += 1\n",
    "    \n",
    "    # Check if the mouse is in room 1 at the end of the simulation\n",
    "    if current_room == 0:\n",
    "        count_room1 += 1\n",
    "    if current_room == 1:\n",
    "        count_room2 += 1\n",
    "    if current_room == 2:\n",
    "        count_room3 += 1\n",
    "    if current_room == 3:\n",
    "        count_room4 += 1\n",
    "\n",
    "# Calculate the estimated probability of the mouse being in room 1 after 5 days\n",
    "prob_room1 = count_room1 / num_simulations\n",
    "prob_room2 = count_room2 / num_simulations\n",
    "prob_room3 = count_room3 / num_simulations\n",
    "prob_room4 = count_room4 / num_simulations\n",
    "\n",
    "# Print the estimated probability\n",
    "print(\"Estimated probability of the mouse being in room 1 after days:\", prob_room1)\n",
    "print(\"Estimated probability of the mouse being in room 2 after 500 days:\", prob_room2)\n",
    "print(\"Estimated probability of the mouse being in room 3 after 500 days:\", prob_room3)\n",
    "print(\"Estimated probability of the mouse being in room 4 after 500 days:\", prob_room4)"
   ]
  },
  {
   "attachments": {},
   "cell_type": "markdown",
   "metadata": {},
   "source": [
    "# <b>CÂU 3</b>\n",
    "## <b>LÝ THUYẾT</b>\n",
    "### a) Tính xác suất xe rời trạm 2 mà vẫn không có khách.\n",
    "Tổng các trường hợp trên:\n",
    "1. Trạm 1 lên 0, trạm 2 lên 0 xuống 0: 0.5 * 0.5\n",
    "2. Trạm 1 lên 1, trạm 2 lên 0 xuống 1: 0.4 * 0.5 * 0.2\n",
    "3. Trạm 1 lên 2, trạm 2 lên 0 xuống 2: 0.1 * 0.5 * 0.04\n",
    "4. Trạm 1 lên 0, trạm 2 lên 1 xuống 1: 0.5 * 0.4 * 0.2\n",
    "5. Trạm 1 lên 1, trạm 2 lên 1 xuống 2: 0.4 * 0.4 * 0.04\n",
    "6. Trạm 1 lên 2, trạm 2 lên 1 xuống 3: 0.1 * 0.4 * 0.008\n",
    "7. Trạm 1 lên 0, trạm 2 lên 2 xuống 2: 0.5 * 0.1 * 0.04\n",
    "8. Trạm 1 lên 1, trạm 2 lên 2 xuống 3: 0.4 * 0.1 * 0.008\n",
    "9. Trạm 1 lên 2, trạm 2 lên 2 xuống 4: 0.1 * 0.1 * 0.0016\n",
    "### b) Tính xác suất xe rời trạm 3 mà vẫn không có khách.\n",
    "Tương tự Câu a) nhưng có thêm các trường không xuống hết ở trạm 2.\n",
    "### c) Tính xác suất xe rời trạm 5 với ít nhất 5 khách trên xe.\n",
    "### d) An xuống xe ở trạm 2, sau đó An thấy xe rời trạm 2 mà không có khách. Tính xác suất xe chỉ chở mình An khi xe rời trạm 1.\n",
    "2. Trạm 1 lên 1, trạm 2 lên 0 xuống 1: 0.4 * 0.5 * 0.2 = 0.04\n",
    "### e) Tính kì vọng số khách trên xe khi xe rời trạm 2.\n",
    "E(X) = $P^2$(X = 0)\n",
    "### f) Tính kì vọng số khách trên xe khi xe rời trạm 3.\n",
    "E(X) = $P^3$(X = 0)\n",
    "### g) Giả sử xe chứa tối đa 5 khách, nếu lượng khách lên nhiều thì xe chỉ cho phép đủ người lên. Tính xác suất xe rời trạm 5 với đủ khách.\n",
    "### h) Tương tự Câu (### g), tính kì vọng số khách trên xe khi xe rời trạm 5.\n",
    "## <b>MÔ PHỎNG</b>\n",
    "### a) Tính xác suất xe rời trạm 2 mà vẫn không có khách."
   ]
  },
  {
   "cell_type": "code",
   "execution_count": 263,
   "metadata": {},
   "outputs": [],
   "source": [
    "def simulate_bus(num_stops):\n",
    "    current_stop = 1 # starting at stop 1\n",
    "    num_passengers = 0 # starting with no passengers on bus\n",
    "    prob_dropoff = 0.2 # probability a passenger gets off at each stop\n",
    "    prob_pickup = [0.5, 0.4, 0.1] # probability of 0, 1, or 2 passengers getting on at each stop\n",
    "    \n",
    "    while current_stop <= num_stops:\n",
    "        \n",
    "        num_passengers -= sum([1 for _ in range(num_passengers) if np.random.uniform() < prob_dropoff])\n",
    "        num_passengers += random.choices([0, 1, 2], weights=prob_pickup)[0]\n",
    "        current_stop += 1\n",
    "        \n",
    "    return num_passengers"
   ]
  },
  {
   "cell_type": "code",
   "execution_count": 264,
   "metadata": {},
   "outputs": [],
   "source": [
    "def no_passengers(num_stops):\n",
    "    return 1 if simulate_bus(num_stops) == 0 else 0\n",
    "num_simulations = 100000"
   ]
  },
  {
   "cell_type": "code",
   "execution_count": 207,
   "metadata": {},
   "outputs": [
    {
     "data": {
      "text/plain": [
       "0.2904"
      ]
     },
     "execution_count": 207,
     "metadata": {},
     "output_type": "execute_result"
    }
   ],
   "source": [
    "sum(no_passengers(2) for _ in range(num_simulations))/num_simulations"
   ]
  },
  {
   "attachments": {},
   "cell_type": "markdown",
   "metadata": {},
   "source": [
    "### b) Tính xác suất xe rời trạm 3 mà vẫn không có khách."
   ]
  },
  {
   "cell_type": "code",
   "execution_count": 208,
   "metadata": {},
   "outputs": [
    {
     "data": {
      "text/plain": [
       "0.19"
      ]
     },
     "execution_count": 208,
     "metadata": {},
     "output_type": "execute_result"
    }
   ],
   "source": [
    "sum(no_passengers(3) for _ in range(num_simulations))/num_simulations"
   ]
  },
  {
   "attachments": {},
   "cell_type": "markdown",
   "metadata": {},
   "source": [
    "### c) Tính xác suất xe rời trạm 5 với ít nhất 5 khách trên xe."
   ]
  },
  {
   "cell_type": "code",
   "execution_count": 209,
   "metadata": {},
   "outputs": [
    {
     "data": {
      "text/plain": [
       "0.035"
      ]
     },
     "execution_count": 209,
     "metadata": {},
     "output_type": "execute_result"
    }
   ],
   "source": [
    "def min_passengers(num_stops, min):\n",
    "    return 1 if simulate_bus(num_stops) >= min else 0\n",
    "sum(min_passengers(5, 5) for _ in range(num_simulations))/num_simulations"
   ]
  },
  {
   "attachments": {},
   "cell_type": "markdown",
   "metadata": {},
   "source": [
    "### d) An xuống xe ở trạm 2, sau đó An thấy xe rời trạm 2 mà không có khách. Tính xác suất xe chỉ chở mình An khi xe rời trạm 1."
   ]
  },
  {
   "cell_type": "code",
   "execution_count": 287,
   "metadata": {},
   "outputs": [],
   "source": [
    "def simulate_bus_given_An(num_stops):\n",
    "    current_stop = 1\n",
    "    num_passengers = 0\n",
    "    prob_dropoff = 0.2\n",
    "    prob_pickup = [0.5, 0.4, 0.1]\n",
    "    \n",
    "    while current_stop <= num_stops:\n",
    "        \n",
    "        num_passengers -= sum([1 for _ in range(num_passengers) if np.random.uniform() < prob_dropoff])\n",
    "        num_passengers += random.choices([0, 1, 2], weights=prob_pickup)[0]\n",
    "        current_stop += 1\n",
    "        if current_stop == 2 and num_passengers != 1:\n",
    "            return -1\n",
    "        if current_stop == 3 and num_passengers != 0:\n",
    "            return -1\n",
    "    \n",
    "    return num_passengers\n"
   ]
  },
  {
   "cell_type": "code",
   "execution_count": 294,
   "metadata": {},
   "outputs": [
    {
     "data": {
      "text/plain": [
       "0.04057"
      ]
     },
     "execution_count": 294,
     "metadata": {},
     "output_type": "execute_result"
    }
   ],
   "source": [
    "def an_passengers(num_stops):\n",
    "    return 1 if simulate_bus_given_An(num_stops) == 0 else 0\n",
    "sum(an_passengers(2) for _ in range(num_simulations))/num_simulations"
   ]
  },
  {
   "attachments": {},
   "cell_type": "markdown",
   "metadata": {},
   "source": [
    "### e) Tính kì vọng số khách trên xe khi xe rời trạm 2."
   ]
  },
  {
   "cell_type": "code",
   "execution_count": 195,
   "metadata": {},
   "outputs": [
    {
     "data": {
      "text/plain": [
       "1.0771"
      ]
     },
     "execution_count": 195,
     "metadata": {},
     "output_type": "execute_result"
    }
   ],
   "source": [
    "sum(simulate_bus(2) for _ in range(num_simulations))/num_simulations"
   ]
  },
  {
   "attachments": {},
   "cell_type": "markdown",
   "metadata": {},
   "source": [
    "### f) Tính kì vọng số khách trên xe khi xe rời trạm 3."
   ]
  },
  {
   "cell_type": "code",
   "execution_count": 196,
   "metadata": {},
   "outputs": [
    {
     "data": {
      "text/plain": [
       "1.4573"
      ]
     },
     "execution_count": 196,
     "metadata": {},
     "output_type": "execute_result"
    }
   ],
   "source": [
    "sum(simulate_bus(3) for _ in range(num_simulations))/num_simulations"
   ]
  },
  {
   "attachments": {},
   "cell_type": "markdown",
   "metadata": {},
   "source": [
    "\n",
    "### g) Giả sử xe chứa tối đa 5 khách, nếu lượng khách lên nhiều thì xe chỉ cho phép đủ người lên. Tính xác suất xe rời trạm 5 với đủ khách."
   ]
  },
  {
   "cell_type": "code",
   "execution_count": 197,
   "metadata": {},
   "outputs": [],
   "source": [
    "def simulate_bus_2(num_stops):\n",
    "    current_stop = 1\n",
    "    num_passengers = 0\n",
    "    prob_dropoff = 0.2\n",
    "    prob_pickup = [0.5, 0.4, 0.1]\n",
    "    max_capacity = 5\n",
    "    \n",
    "    while current_stop <= num_stops:\n",
    "        # passengers get off\n",
    "        num_passengers -= sum([1 for _ in range(num_passengers) if np.random.uniform() < prob_dropoff])\n",
    "        \n",
    "        # passengers get on\n",
    "        num_boarding = random.choices([0, 1, 2], weights=prob_pickup)[0]\n",
    "        num_boarding = min(num_boarding, max_capacity - num_passengers)\n",
    "        num_passengers += num_boarding\n",
    "        \n",
    "        # move to next stop\n",
    "        current_stop += 1\n",
    "        \n",
    "    return num_passengers"
   ]
  },
  {
   "cell_type": "code",
   "execution_count": 198,
   "metadata": {},
   "outputs": [
    {
     "data": {
      "text/plain": [
       "0.0329"
      ]
     },
     "execution_count": 198,
     "metadata": {},
     "output_type": "execute_result"
    }
   ],
   "source": [
    "sum(1 if simulate_bus_2(5) == 5 else 0 for _ in range(num_simulations))/num_simulations"
   ]
  },
  {
   "attachments": {},
   "cell_type": "markdown",
   "metadata": {},
   "source": [
    "### h) Tương tự Câu (### g), tính kì vọng số khách trên xe khi xe rời trạm 5."
   ]
  },
  {
   "cell_type": "code",
   "execution_count": 199,
   "metadata": {},
   "outputs": [
    {
     "data": {
      "text/plain": [
       "2.0014"
      ]
     },
     "execution_count": 199,
     "metadata": {},
     "output_type": "execute_result"
    }
   ],
   "source": [
    "sum(simulate_bus_2(5) for _ in range(num_simulations))/num_simulations"
   ]
  }
 ],
 "metadata": {
  "kernelspec": {
   "display_name": "Python 3",
   "language": "python",
   "name": "python3"
  },
  "language_info": {
   "codemirror_mode": {
    "name": "ipython",
    "version": 3
   },
   "file_extension": ".py",
   "mimetype": "text/x-python",
   "name": "python",
   "nbconvert_exporter": "python",
   "pygments_lexer": "ipython3",
   "version": "3.10.5"
  },
  "orig_nbformat": 4,
  "vscode": {
   "interpreter": {
    "hash": "df515c7397437e016ca8f5715290d1712a5cfc8149a05970526c605fb75f36fa"
   }
  }
 },
 "nbformat": 4,
 "nbformat_minor": 2
}
