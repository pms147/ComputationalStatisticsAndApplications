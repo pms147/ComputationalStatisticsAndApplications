{
 "cells": [
  {
   "cell_type": "code",
   "execution_count": null,
   "metadata": {},
   "outputs": [],
   "source": [
    "import numpy as np\n",
    "import random\n",
    "import math\n",
    "from math import pow\n",
    "import time\n",
    "import matplotlib.pyplot as plt\n",
    "from collections import Counter\n",
    "import scipy.stats as stats\n",
    "import pandas as pd\n",
    "import itertools\n",
    "\n",
    "num_simulations = 10000"
   ]
  },
  {
   "attachments": {},
   "cell_type": "markdown",
   "metadata": {},
   "source": [
    "# <b>CÂU 1</b>\n"
   ]
  },
  {
   "attachments": {},
   "cell_type": "markdown",
   "metadata": {},
   "source": [
    "#### a) Dùng bước ngẫu nhiên Metropolis, thiết kế thuật toán lấy mẫu cho"
   ]
  },
  {
   "attachments": {},
   "cell_type": "markdown",
   "metadata": {},
   "source": [
    "1. Để sử dụng thuật toán Metropolis để lấy mẫu từ phân phối Poisson với kì vọng $\\lambda = 4$ và độ dời $\\epsilon$ theo phân phối đề xuất $\\mathcal{U}(-1,1)$, ta cần thực hiện các bước sau:\n",
    "\n",
    "Khởi tạo giá trị ban đầu $x_0$ từ phân phối Poisson với kì vọng $\\lambda$.\n",
    "\n",
    "Với mỗi bước thời gian $t$, thực hiện các bước sau:\n",
    "\n",
    "a. Tính giá trị $x'$ được chọn ngẫu nhiên từ phân phối đề xuất $\\mathcal{U}(x_t - \\epsilon, x_t + \\epsilon)$.\n",
    "\n",
    "b. Tính tỷ lệ chấp nhận.\n",
    "\n",
    "c. Chọn một số ngẫu nhiên $u$ từ phân phối đều trên đoạn [0, 1].\n",
    "\n",
    "d. Nếu $u < \\alpha$, chấp nhận $x'$ là giá trị tiếp theo của chuỗi Markov: $x_{t+1} = x'$. Ngược lại, giữ nguyên giá trị $x_t$ là giá trị tiếp theo của chuỗi Markov: $x_{t+1} = x_t$.\n",
    "\n",
    "Lặp lại bước 2 cho đủ số lượng mẫu.\n",
    "\n",
    "Sau khi thu thập đủ số lượng mẫu, ta có thể sử dụng chuỗi Markov này để ước tính các giá trị kỳ vọng và phương sai của phân phối Poisson với kì vọng $\\lambda = 4$."
   ]
  },
  {
   "attachments": {},
   "cell_type": "markdown",
   "metadata": {},
   "source": [
    "Dưới đây là code Python để lấy mẫu từ phân phối Poisson với kì vọng $\\lambda = 4$ và độ dời $\\epsilon$ theo phân phối đề xuất $\\mathcal{U}(-1,1)$ bằng thuật toán Metropolis:"
   ]
  },
  {
   "cell_type": "code",
   "execution_count": 4,
   "metadata": {},
   "outputs": [
    {
     "data": {
      "text/plain": [
       "array([7, 7, 7, ..., 7, 7, 7])"
      ]
     },
     "execution_count": 4,
     "metadata": {},
     "output_type": "execute_result"
    }
   ],
   "source": [
    "def metropolis_poisson(lambda_, epsilon, n_samples):\n",
    "    # Khởi tạo giá trị ban đầu từ phân phối Poisson\n",
    "    x = np.random.poisson(lambda_)\n",
    "    samples = [x]\n",
    "    \n",
    "    for i in range(n_samples):\n",
    "        # Lấy mẫu từ phân phối đề xuất\n",
    "        x_proposed = np.random.uniform(x - epsilon, x + epsilon)\n",
    "        \n",
    "        # Tính tỷ lệ chấp nhận\n",
    "        alpha = min(1, (stats.poisson.pmf(x_proposed, lambda_) / stats.poisson.pmf(x, lambda_))\n",
    "                        * (stats.uniform.pdf(x, x_proposed - epsilon, 2 * epsilon)))\n",
    "        \n",
    "        # Chấp nhận hoặc không chấp nhận mẫu mới\n",
    "        if np.random.uniform() < alpha:\n",
    "            x = x_proposed\n",
    "        \n",
    "        samples.append(x)\n",
    "    \n",
    "    return np.array(samples)\n",
    "\n",
    "metropolis_poisson(4, 1, num_simulations)"
   ]
  },
  {
   "attachments": {},
   "cell_type": "markdown",
   "metadata": {},
   "source": [
    "2. Phân phối chuẩn tắc là một phân phối xác suất đối xứng, có trung bình bằng 0 và độ lệch chuẩn bằng 1. Phân phối đề xuất cho thuật toán Metropolis-Hastings là phân phối đề xuất đồng nhất liên tục trong khoảng [-𝜀, 𝜀], và bằng 0 ngoài khoảng này, ta có thể thực hiện các bước như sau:\n",
    "\n",
    "Khởi tạo một giá trị ban đầu cho biến ngẫu nhiên $x_0$.\n",
    "\n",
    "Lặp lại các bước sau để lấy mẫu các giá trị của biến ngẫu nhiên:\n",
    "   a. Sinh ra một giá trị ứng viên mới $x'$ từ phân phối đề xuất 𝒰(x_t-𝜀, x_t+𝜀).\n",
    "   b. Tính tỷ lệ giá trị ứng viên của $x'$ và giá trị hiện tại của $x$: \n",
    "   $r = \\frac{f(x')}{f(x_t)}$, với $f(x) = \\frac{1}{\\sqrt{2\\pi}}e^{-\\frac{x^2}{2}}$ là hàm mật độ xác suất của phân phối chuẩn tắc.\n",
    "   c. Sinh ra một số ngẫu nhiên $u$ từ phân phối đề xuất 𝒰(-𝜀, 𝜀).\n",
    "   d. Nếu $u < r$, chấp nhận giá trị ứng viên mới $x'$. Nếu không, giữ nguyên giá trị hiện tại của $x$.\n",
    "\n",
    "Lặp lại bước 2 đến khi thu đủ số lượng mẫu cần thiết.\n",
    "\n",
    "Lưu ý rằng khi sinh ra giá trị ứng viên mới $x'$ từ phân phối đề xuất 𝒰(x_t-𝜀, x_t+𝜀), ta cần đảm bảo giá trị $x'$ nằm trong khoảng [-1, 1], vì đó là miền giá trị của phân phối đề xuất. Nếu giá trị ứng viên mới $x'$ không nằm trong khoảng này, ta sẽ bỏ qua giá trị đó và không tính tỷ lệ $r$."
   ]
  },
  {
   "attachments": {},
   "cell_type": "markdown",
   "metadata": {},
   "source": [
    "Dưới đây là code Python để lấy mẫu từ phân phối chuẩn tắc với độ dời $\\epsilon$ theo phân phối đề xuất $\\mathcal{U}(-1,1)$ bằng thuật toán Metropolis:"
   ]
  },
  {
   "cell_type": "code",
   "execution_count": 5,
   "metadata": {},
   "outputs": [
    {
     "data": {
      "text/plain": [
       "array([-0.36289575, -0.43708548, -0.62963598, ...,  1.47764352,\n",
       "        1.2745284 ,  0.77789329])"
      ]
     },
     "execution_count": 5,
     "metadata": {},
     "output_type": "execute_result"
    }
   ],
   "source": [
    "def metropolis_standard_normal(epsilon, n_samples):\n",
    "    # Khởi tạo giá trị ban đầu từ phân phối chuẩn tắc\n",
    "    x = np.random.normal()\n",
    "    samples = [x]\n",
    "    \n",
    "    for i in range(n_samples):\n",
    "        # Lấy mẫu từ phân phối đề xuất\n",
    "        x_proposed = np.random.uniform(x - epsilon, x + epsilon)\n",
    "        \n",
    "        # Tính tỷ lệ chấp nhận\n",
    "        alpha = min(1, np.exp(-0.5*(x_proposed**2 - x**2)) \n",
    "                        * (stats.uniform.pdf(x, x_proposed - epsilon, 2 * epsilon) / stats.uniform.pdf(x_proposed, x - epsilon, 2 * epsilon)))\n",
    "        \n",
    "        # Chấp nhận hoặc không chấp nhận mẫu mới\n",
    "        if np.random.uniform() < alpha:\n",
    "            x = x_proposed\n",
    "        \n",
    "        samples.append(x)\n",
    "    \n",
    "    return np.array(samples)\n",
    "\n",
    "metropolis_standard_normal(1, num_simulations)"
   ]
  },
  {
   "attachments": {},
   "cell_type": "markdown",
   "metadata": {},
   "source": [
    "#### b) So sánh các thuật toán trên với các thuật toán lấy mẫu độc lập đã học về thời gian chạy và sai số trong ước lượng kì vọng của phân phối.\n",
    "Thuật toán Metropolis có thể có thời gian chạy lâu hơn các thuật toán lấy mẫu độc lập, bởi vì nó sử dụng một chuỗi Markov để lấy mẫu từ phân phối mục tiêu và phải tính tỷ lệ chấp nhận mẫu mới. Tuy nhiên, nếu phân phối mục tiêu là phức tạp và không thể tính được hàm mật độ xác suất, thì thuật toán Metropolis là một lựa chọn tốt hơn.\n",
    "\n",
    "Đối với ước lượng kì vọng của phân phối, các thuật toán Metropolis cũng có thể có sai số lớn hơn so với các thuật toán lấy mẫu độc lập, bởi vì chuỗi Markov thu được từ thuật toán Metropolis có thể cần nhiều mẫu hơn để đạt được sự hội tụ và ổn định. Tuy nhiên, nếu phân phối mục tiêu là phức tạp và không thể tính được kì vọng một cách trực tiếp, thì các thuật toán Metropolis có thể là lựa chọn duy nhất.\n",
    "\n",
    "Ngoài ra, việc chọn độ dời của phân phối đề xuất cũng có thể ảnh hưởng đến thời gian chạy và sai số của thuật toán Metropolis. Nếu độ dời quá nhỏ, thuật toán có thể dễ dàng rơi vào trạng thái suy biến và không thể đi đến các điểm khác. Nếu độ dời quá lớn, tỷ lệ chấp nhận các mẫu mới sẽ rất thấp, và thuật toán sẽ không có nhiều điểm để lấy mẫu.\n",
    "\n",
    "Vì vậy, việc chọn thuật toán và độ dời của phân phối đề xuất phụ thuộc vào bài toán cụ thể và mục đích của ước lượng."
   ]
  },
  {
   "attachments": {},
   "cell_type": "markdown",
   "metadata": {},
   "source": [
    "# <b>CÂU 2</b>"
   ]
  },
  {
   "attachments": {},
   "cell_type": "markdown",
   "metadata": {},
   "source": [
    "Để sử dụng phương pháp Gibbs, chúng ta cần biến đổi phân phối hai chiều f(x,y) thành hai phân phối có điều kiện:\n",
    "\n",
    "f(x|y): phân phối của X khi biết Y=y\n",
    "\n",
    "f(y|x): phân phối của Y khi biết X=x\n",
    "\n",
    "Ta có:\n",
    "\n",
    "f(x|y) = f(x,y) / f(y) = 2e^(-x-2y) / ∫[0, ∞] 2e^(-x-2y)dx = e^(-x-2y)\n",
    "\n",
    "f(y|x) = f(x,y) / f(x) = 2e^(-x-2y) / ∫[0, ∞] 2e^(-x-2y)dy = e^(-x-2y/2)\n",
    "\n",
    "Bước lấy mẫu:\n",
    "\n",
    "Chọn giá trị khởi tạo x_0 và y_0 bất kì thỏa mãn 0 < x_0, y_0 < ∞\n",
    "\n",
    "Lặp lại các bước sau để lấy mẫu (X,Y) từ phân phối f(x,y)\n",
    "\n",
    "Lấy mẫu x từ f(x|y) bằng cách lấy mẫu từ phân phối mũ e^(-x-2y)\n",
    "\n",
    "Lấy mẫu y từ f(y|x) bằng cách lấy mẫu từ phân phối mũ e^(-x-2y/2)\n",
    "\n",
    "Lưu lại mẫu (x, y)\n",
    "\n",
    "Sau khi lấy đủ số mẫu, ta có thể tính xác suất P(X < Y) bằng tỉ lệ các mẫu thỏa mãn X < Y và tính kì vọng E(XY) bằng trung bình của tích X và Y trong các mẫu thu được."
   ]
  },
  {
   "cell_type": "code",
   "execution_count": 6,
   "metadata": {},
   "outputs": [
    {
     "name": "stdout",
     "output_type": "stream",
     "text": [
      "P(X < Y) =  0.3272\n",
      "E(XY) =  0.08165296848261681\n"
     ]
    }
   ],
   "source": [
    "import numpy as np\n",
    "\n",
    "def gibbs_sampling(num_samples):\n",
    "    # Initialize starting values\n",
    "    x = 1\n",
    "    y = 1\n",
    "    samples = []\n",
    "\n",
    "    for i in range(num_samples):\n",
    "        # Sample x from f(x|y) using a truncated exponential distribution\n",
    "        x = np.random.exponential(scale=1/(y+2))\n",
    "        while x <= 0:\n",
    "            x = np.random.exponential(scale=1/(y+2))\n",
    "\n",
    "        # Sample y from f(y|x) using a truncated exponential distribution\n",
    "        y = np.random.exponential(scale=1/(x+2))/2\n",
    "        while y <= 0:\n",
    "            y = np.random.exponential(scale=1/(x+2))/2\n",
    "\n",
    "        samples.append((x,y))\n",
    "\n",
    "    return samples\n",
    "\n",
    "# Number of samples to generate\n",
    "num_samples = 10000\n",
    "\n",
    "# Generate samples\n",
    "samples = gibbs_sampling(num_samples)\n",
    "\n",
    "# Calculate P(X < Y)\n",
    "count_X_less_than_Y = sum([1 for x,y in samples if x < y])\n",
    "prob_X_less_than_Y = count_X_less_than_Y / num_samples\n",
    "print(\"P(X < Y) = \", prob_X_less_than_Y)\n",
    "\n",
    "# Calculate E(XY)\n",
    "E_XY = sum([x*y for x,y in samples]) / num_samples\n",
    "print(\"E(XY) = \", E_XY)\n"
   ]
  },
  {
   "attachments": {},
   "cell_type": "markdown",
   "metadata": {},
   "source": [
    "# <b>CÂU 3</b>\n",
    "Có 2 hộp bi: hộp I gồm 7 bi đỏ và 3 bi đen, hộp II gồm 2 bi đỏ và 8 bi đen. Việc bốc bi được tiến hành theo các bước sau:"
   ]
  },
  {
   "attachments": {},
   "cell_type": "markdown",
   "metadata": {},
   "source": [
    "#### a) Bốc 5 lần có hoàn lại thì thấy có 4 lần được bi đỏ và 1 lần được bi đen."
   ]
  },
  {
   "cell_type": "code",
   "execution_count": 7,
   "metadata": {},
   "outputs": [
    {
     "name": "stdout",
     "output_type": "stream",
     "text": [
      "Probability of choosing box I initially:  0.5\n",
      "Probability of choosing box II initially:  0.5\n",
      "Probability of drawing a red ball:  0.44999999999999996\n",
      "Probability of drawing a black ball:  0.55\n",
      "Probability of choosing box I after drawing 4 red balls and 1 black ball:  0.9825398990587914\n"
     ]
    }
   ],
   "source": [
    "# Tính xác suất chọn hộp I ban đầu\n",
    "def prob_box_I(p):\n",
    "    return p\n",
    "\n",
    "# Tính xác suất chọn hộp II ban đầu\n",
    "def prob_box_II(p):\n",
    "    return 1 - p\n",
    "\n",
    "# Tính xác suất bốc được viên bi đỏ từ hộp I\n",
    "def prob_red_box_I():\n",
    "    return 7 / 10\n",
    "\n",
    "# Tính xác suất bốc được viên bi đen từ hộp I\n",
    "def prob_black_box_I():\n",
    "    return 3 / 10\n",
    "\n",
    "# Tính xác suất bốc được viên bi đỏ từ hộp II\n",
    "def prob_red_box_II():\n",
    "    return 2 / 10\n",
    "\n",
    "# Tính xác suất bốc được viên bi đen từ hộp II\n",
    "def prob_black_box_II():\n",
    "    return 8 / 10\n",
    "\n",
    "# Tính xác suất bốc được bi đỏ\n",
    "def prob_red(p):\n",
    "    return prob_box_I(p) * prob_red_box_I() + prob_box_II(p) * prob_red_box_II()\n",
    "\n",
    "# Tính xác suất bốc được bi đen\n",
    "def prob_black(p):\n",
    "    return prob_box_I(p) * prob_black_box_I() + prob_box_II(p) * prob_black_box_II()\n",
    "\n",
    "# Tính xác suất chọn hộp I sau khi đã bốc 4 viên bi đỏ và 1 viên bi đen\n",
    "def prob_box_I_given_red_black(p):\n",
    "    num = prob_box_I(p) * prob_red_box_I() * (prob_red_box_I() ** 3) * prob_black_box_I()\n",
    "    denom = num + prob_box_II(p) * prob_red_box_II() * (prob_red_box_II() ** 3) * prob_black_box_II()\n",
    "    return num / denom\n",
    "\n",
    "# Thử nghiệm với p = 0.5\n",
    "p = 0.5\n",
    "print(\"Probability of choosing box I initially: \", prob_box_I(p))\n",
    "print(\"Probability of choosing box II initially: \", prob_box_II(p))\n",
    "print(\"Probability of drawing a red ball: \", prob_red(p))\n",
    "print(\"Probability of drawing a black ball: \", prob_black(p))\n",
    "print(\"Probability of choosing box I after drawing 4 red balls and 1 black ball: \", prob_box_I_given_red_black(p))\n"
   ]
  },
  {
   "attachments": {},
   "cell_type": "markdown",
   "metadata": {},
   "source": [
    "### b) Tương tự (a) nhưng biết thêm thông tin 𝑝 ≤ 0.25.\n"
   ]
  },
  {
   "cell_type": "code",
   "execution_count": 8,
   "metadata": {},
   "outputs": [
    {
     "data": {
      "image/png": "[encoded data removed]",
      "text/plain": [
       "<Figure size 432x288 with 1 Axes>"
      ]
     },
     "metadata": {
      "needs_background": "light"
     },
     "output_type": "display_data"
    },
    {
     "name": "stdout",
     "output_type": "stream",
     "text": [
      "Xác suất chọn hộp I khi đã biết kết quả bốc được 4 bi đỏ và 1 bi đen trong 5 lần bốc là: 0.9493871095294584\n"
     ]
    }
   ],
   "source": [
    "# Số bi đỏ và đen trong hộp I và II\n",
    "red_I, black_I = 7, 3\n",
    "red_II, black_II = 2, 8\n",
    "\n",
    "# Tính xác suất chọn hộp I và II\n",
    "p = np.linspace(0, 1, 101) # chia khoảng [0, 1] thành 101 điểm để tính xác suất\n",
    "P_I = p\n",
    "P_II = 1 - p\n",
    "\n",
    "# Tính xác suất bốc được 4 bi đỏ và 1 bi đen trong 5 lần bốc từ hộp I và II\n",
    "P_D_given_I = (red_I/(red_I+black_I))**4 * (black_I/(red_I+black_I))**1\n",
    "P_D_given_II = (red_II/(red_II+black_II))**4 * (black_II/(red_II+black_II))**1\n",
    "\n",
    "# Tính xác suất bốc được 4 bi đỏ và 1 bi đen trong 5 lần bốc\n",
    "P_D = P_D_given_I * P_I + P_D_given_II * P_II\n",
    "\n",
    "# Tính xác suất chọn hộp I khi đã biết kết quả bốc được 4 bi đỏ và 1 bi đen trong 5 lần bốc\n",
    "P_I_given_D = P_D_given_I * P_I / P_D\n",
    "\n",
    "# Vẽ đồ thị biểu diễn xác suất chọn hộp I và II\n",
    "import matplotlib.pyplot as plt\n",
    "\n",
    "plt.plot(p, P_I_given_D)\n",
    "plt.xlabel('Xác suất chọn hộp I')\n",
    "plt.ylabel('Xác suất chọn hộp I khi đã biết kết quả bốc được 4 bi đỏ và 1 bi đen trong 5 lần bốc')\n",
    "plt.show()\n",
    "\n",
    "# In ra kết quả xác suất chọn hộp I\n",
    "print(\"Xác suất chọn hộp I khi đã biết kết quả bốc được 4 bi đỏ và 1 bi đen trong 5 lần bốc là:\", P_I_given_D[25])\n"
   ]
  },
  {
   "attachments": {},
   "cell_type": "markdown",
   "metadata": {},
   "source": [
    "### c) Bốc 3 lần không hoàn lại thì thấy lần lượt được bi đỏ, đen, đỏ."
   ]
  },
  {
   "cell_type": "code",
   "execution_count": 9,
   "metadata": {},
   "outputs": [
    {
     "name": "stdout",
     "output_type": "stream",
     "text": [
      "Xác suất chọn hộp I sau khi bốc 3 lần không hoàn lại và thấy lần lượt được bi đỏ, đen, đỏ: 3.180822401470799e-06\n",
      "Xác suất chọn hộp II sau khi bốc 3 lần không hoàn lại và thấy lần lượt được bi đỏ, đen, đỏ: 1.1418291302605838e-09\n"
     ]
    }
   ],
   "source": [
    "# Tính xác suất của mỗi hộp ban đầu\n",
    "p_box1 = 7/10\n",
    "p_box2 = 2/10\n",
    "\n",
    "# Bước 1: Chọn hộp\n",
    "p = 0.5  # Khả năng chọn bất kỳ hộp nào là như nhau\n",
    "\n",
    "# Bước 2: Bốc bi\n",
    "# a) Bốc 5 lần có hoàn lại thì thấy có 4 lần được bi đỏ và 1 lần được bi đen.\n",
    "# Update xác suất sau khi bốc từng viên bi\n",
    "for i in range(5):\n",
    "    # Tính xác suất của mỗi hộp sau khi bốc viên bi\n",
    "    p_box1_given_red = p_box1 * 7/(7+3*p) # p(B1|R)\n",
    "    p_box2_given_red = p_box2 * 2/(2+8*p) # p(B2|R)\n",
    "    p_box1_given_black = p_box1 * 3/(7+3*p) # p(B1|B)\n",
    "    p_box2_given_black = p_box2 * 8/(2+8*p) # p(B2|B)\n",
    "\n",
    "    # Update xác suất chọn mỗi hộp bi dựa trên kết quả của viên bi được bốc\n",
    "    if i == 0:\n",
    "        # Bốc viên bi đỏ\n",
    "        p_box1 = p_box1_given_red\n",
    "        p_box2 = p_box2_given_red\n",
    "    elif i == 1:\n",
    "        # Bốc viên bi đen sau viên bi đỏ\n",
    "        p_box1 = p_box1_given_red * p_box2_given_black\n",
    "        p_box2 = p_box2_given_red * p_box2_given_black\n",
    "    elif i == 2:\n",
    "        # Bốc viên bi đỏ sau viên bi đen và viên bi đỏ\n",
    "        p_box1 = p_box1_given_red * p_box2_given_black * p_box1_given_red\n",
    "        p_box2 = p_box2_given_red * p_box2_given_black * p_box2_given_red\n",
    "\n",
    "# In kết quả\n",
    "print(\"Xác suất chọn hộp I sau khi bốc 3 lần không hoàn lại và thấy lần lượt được bi đỏ, đen, đỏ:\", p_box1)\n",
    "print(\"Xác suất chọn hộp II sau khi bốc 3 lần không hoàn lại và thấy lần lượt được bi đỏ, đen, đỏ:\", p_box2)"
   ]
  },
  {
   "attachments": {},
   "cell_type": "markdown",
   "metadata": {},
   "source": [
    "### d) Bốc 3 lần không hoàn lại thì thấy lần lượt được bi đỏ, đỏ, đen."
   ]
  },
  {
   "cell_type": "code",
   "execution_count": 10,
   "metadata": {},
   "outputs": [
    {
     "name": "stdout",
     "output_type": "stream",
     "text": [
      "Xác suất chọn hộp I sau khi bốc 3 lần không hoàn lại và thấy lần lượt được bi đỏ, đen, đỏ: 4.9700350022981235e-08\n",
      "Xác suất chọn hộp II sau khi bốc 3 lần không hoàn lại và thấy lần lượt được bi đỏ, đen, đỏ: 1.7841080160321623e-11\n"
     ]
    }
   ],
   "source": [
    "# Tính xác suất của mỗi hộp ban đầu\n",
    "p_box1 = 7/10\n",
    "p_box2 = 2/10\n",
    "\n",
    "# Bước 1: Chọn hộp\n",
    "p = 0.5  # Khả năng chọn bất kỳ hộp nào là như nhau\n",
    "\n",
    "# Bước 2: Bốc bi\n",
    "# a) Bốc 5 lần có hoàn lại thì thấy có 4 lần được bi đỏ và 1 lần được bi đen.\n",
    "# Update xác suất sau khi bốc từng viên bi\n",
    "for i in range(5):\n",
    "    # Tính xác suất của mỗi hộp sau khi bốc viên bi\n",
    "    p_box1_given_red = p_box1 * 7/(7+3*p) # p(B1|R)\n",
    "    p_box2_given_red = p_box2 * 2/(2+8*p) # p(B2|R)\n",
    "    p_box1_given_black = p_box1 * 3/(7+3*p) # p(B1|B)\n",
    "    p_box2_given_black = p_box2 * 8/(2+8*p) # p(B2|B)\n",
    "\n",
    "    # Update xác suất chọn mỗi hộp bi dựa trên kết quả của viên bi được bốc\n",
    "    if i == 0:\n",
    "        # Bốc viên bi đỏ\n",
    "        p_box1 = p_box1_given_red\n",
    "        p_box2 = p_box2_given_red\n",
    "    elif i == 1:\n",
    "        # Bốc viên bi đỏ sau viên bi đỏ\n",
    "        p_box1 = p_box1_given_red * p_box2_given_red\n",
    "        p_box2 = p_box2_given_red * p_box2_given_red\n",
    "    elif i == 2:\n",
    "        # Bốc viên bi đen sau 2 viên bi đỏ\n",
    "        p_box1 = p_box1_given_red * p_box2_given_black * p_box1_given_red\n",
    "        p_box2 = p_box2_given_red * p_box2_given_black * p_box2_given_red\n",
    "\n",
    "# In kết quả\n",
    "print(\"Xác suất chọn hộp I sau khi bốc 3 lần không hoàn lại và thấy lần lượt được bi đỏ, đen, đỏ:\", p_box1)\n",
    "print(\"Xác suất chọn hộp II sau khi bốc 3 lần không hoàn lại và thấy lần lượt được bi đỏ, đen, đỏ:\", p_box2)"
   ]
  },
  {
   "attachments": {},
   "cell_type": "markdown",
   "metadata": {},
   "source": [
    "# <b>CÂU 4</b>"
   ]
  },
  {
   "cell_type": "code",
   "execution_count": 2,
   "metadata": {},
   "outputs": [],
   "source": [
    "import numpy as np\n",
    "from scipy.stats import norm\n",
    "from sklearn.model_selection import train_test_split\n",
    "from sklearn.naive_bayes import GaussianNB\n",
    "from sklearn.metrics import accuracy_score"
   ]
  },
  {
   "cell_type": "code",
   "execution_count": 18,
   "metadata": {},
   "outputs": [],
   "source": [
    "import pandas as pd\n",
    "import numpy as np\n",
    "from scipy.stats import norm\n",
    "from sklearn.naive_bayes import GaussianNB\n",
    "from sklearn.model_selection import train_test_split\n",
    "from sklearn.metrics import accuracy_score\n",
    "from sklearn.naive_bayes import MultinomialNB"
   ]
  },
  {
   "attachments": {},
   "cell_type": "markdown",
   "metadata": {},
   "source": [
    "#### a) Xác định sự phụ thuộc của mpg vào các biến còn lại."
   ]
  },
  {
   "cell_type": "code",
   "execution_count": 21,
   "metadata": {},
   "outputs": [
    {
     "name": "stdout",
     "output_type": "stream",
     "text": [
      "Độ chính xác của mô hình: 62.50%\n"
     ]
    }
   ],
   "source": [
    "# Đọc dữ liệu từ tập tin\n",
    "data = pd.read_csv('https://archive.ics.uci.edu/ml/machine-learning-databases/auto-mpg/auto-mpg.data', delimiter='\\s+', header=None)\n",
    "data = data.iloc[:, :-1]  # bỏ cột cuối cùng (car name)\n",
    "\n",
    "# Thay thế chuỗi '?' bằng giá trị trung bình của cột tương ứng\n",
    "data.replace('?', np.nan, inplace=True)\n",
    "data = data.apply(pd.to_numeric)\n",
    "data.fillna(data.mean(), inplace=True)\n",
    "\n",
    "# Chia dữ liệu thành tập train và test\n",
    "train_data = data.sample(frac=0.8, random_state=1)\n",
    "test_data = data.drop(train_data.index)\n",
    "\n",
    "# Tạo mô hình suy diễn Bayes\n",
    "gnb = GaussianNB()\n",
    "\n",
    "# Huấn luyện mô hình trên tập train\n",
    "X_train = train_data.iloc[:, :-1]\n",
    "y_train = train_data.iloc[:, -1]\n",
    "gnb.fit(X_train, y_train)\n",
    "\n",
    "# Đánh giá mô hình trên tập test\n",
    "X_test = test_data.iloc[:, :-1]\n",
    "y_test = test_data.iloc[:, -1]\n",
    "accuracy = gnb.score(X_test, y_test)\n",
    "\n",
    "print(\"Độ chính xác của mô hình: {:.2f}%\".format(accuracy * 100))"
   ]
  },
  {
   "attachments": {},
   "cell_type": "markdown",
   "metadata": {},
   "source": [
    "#### b) Xác định sự phụ thuộc của origin vào các biến còn lại."
   ]
  },
  {
   "cell_type": "code",
   "execution_count": 20,
   "metadata": {},
   "outputs": [
    {
     "name": "stdout",
     "output_type": "stream",
     "text": [
      "Độ chính xác của mô hình: 65.83%\n"
     ]
    }
   ],
   "source": [
    "# Đọc tập tin dữ liệu vào DataFrame\n",
    "url = \"https://archive.ics.uci.edu/ml/machine-learning-databases/auto-mpg/auto-mpg.data\"\n",
    "names = ['mpg', 'cylinders', 'displacement', 'horsepower', 'weight', 'acceleration', 'model year', 'origin', 'car name']\n",
    "df = pd.read_csv(url, delim_whitespace=True, names=names)\n",
    "\n",
    "# Bỏ cột \"car name\" khỏi DataFrame\n",
    "df = df.drop(columns=['car name'])\n",
    "\n",
    "# Thay thế chuỗi '?' bằng giá trị trung bình của cột tương ứng\n",
    "df.replace('?', np.nan, inplace=True)\n",
    "df = df.apply(pd.to_numeric)\n",
    "df.fillna(df.mean(), inplace=True)\n",
    "\n",
    "# Xác định biến phụ thuộc và biến độc lập\n",
    "X = df.drop(columns=['origin'])\n",
    "y = df['origin']\n",
    "\n",
    "# Huấn luyện mô hình Multinomial Naive Bayes\n",
    "model = MultinomialNB()\n",
    "model.fit(X, y)\n",
    "\n",
    "# Xác định độ chính xác của mô hình\n",
    "accuracy = model.score(X, y)\n",
    "print(\"Độ chính xác của mô hình: {:.2f}%\".format(accuracy * 100))\n"
   ]
  }
 ],
 "metadata": {
  "kernelspec": {
   "display_name": "Python 3",
   "language": "python",
   "name": "python3"
  },
  "language_info": {
   "codemirror_mode": {
    "name": "ipython",
    "version": 3
   },
   "file_extension": ".py",
   "mimetype": "text/x-python",
   "name": "python",
   "nbconvert_exporter": "python",
   "pygments_lexer": "ipython3",
   "version": "3.10.5"
  },
  "orig_nbformat": 4,
  "vscode": {
   "interpreter": {
    "hash": "df515c7397437e016ca8f5715290d1712a5cfc8149a05970526c605fb75f36fa"
   }
  }
 },
 "nbformat": 4,
 "nbformat_minor": 2
}
