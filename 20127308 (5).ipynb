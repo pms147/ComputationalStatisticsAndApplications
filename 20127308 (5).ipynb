{
 "cells": [
  {
   "attachments": {},
   "cell_type": "markdown",
   "metadata": {},
   "source": [
    "<h1>Phan Minh Sáng - 20127308</h1>"
   ]
  },
  {
   "attachments": {},
   "cell_type": "markdown",
   "metadata": {},
   "source": [
    "# <b>CÂU 1</b>\n"
   ]
  },
  {
   "attachments": {},
   "cell_type": "markdown",
   "metadata": {},
   "source": [
    "#### a) Tính hệ số tương quan mẫu giữa 𝑊 và 𝐻.\n",
    "Để tính hệ số tương quan mẫu giữa 𝑊 và 𝐻, ta sử dụng công thức:\n",
    "\n",
    "𝑟 = Σ((𝑊ᵢ - 𝑊̄)(𝐻ᵢ - 𝐻̄)) / sqrt(Σ(𝑊ᵢ - 𝑊̄)² * Σ(𝐻ᵢ - 𝐻̄)²)\n",
    "\n",
    "Trong đó:\n",
    "- 𝑊ᵢ và 𝐻ᵢ là giá trị của 𝑊 và 𝐻 tương ứng trong từng cặp hình chữ nhật.\n",
    "- 𝑊̄ và 𝐻̄ là giá trị trung bình của 𝑊 và 𝐻, được tính bằng cách lấy tổng các giá trị và chia cho số lượng hình chữ nhật.\n",
    "\n",
    "Giả sử có 𝑛 cặp hình chữ nhật, ta có thể tính toán như sau:\n",
    "\n",
    "Tính 𝑊̄:\n",
    "𝑊̄ = (8.63 + 4.37 + 4.92 + 7.59 + 7.84 + 5.13 + 2.82 + 6.89 + 6.77 + 6.06 + 3.31 + 2.82 + 3.01) / 13 = 5.40\n",
    "\n",
    "Tính 𝐻̄:\n",
    "𝐻̄ = (11.89 + 6.97 + 6.53 + 6.14 + 11.22 + 8.87 + 7.10 + 6.85 + 7.94 + 10.09 + 6.21 + 4.25 + 4.73) / 13 = 7.60\n",
    "\n",
    "Tính Σ((𝑊ᵢ - 𝑊̄)(𝐻ᵢ - 𝐻̄)) = 41.00\n",
    "\n",
    "Tính Σ(𝑊ᵢ - 𝑊̄)² = 50.47\n",
    "\n",
    "Tính Σ(𝐻ᵢ - 𝐻̄)² = 65.31\n",
    "\n",
    "Tiếp theo, tính căn bậc hai của Σ(𝑊ᵢ - 𝑊̄)² * Σ(𝐻ᵢ - 𝐻̄)²:\n",
    "\n",
    "sqrt(Σ(𝑊ᵢ - 𝑊̄)² * Σ(𝐻ᵢ - 𝐻̄)²) = 57.42\n",
    "\n",
    "Cuối cùng, tính hệ số tương quan mẫu 𝑟:\n",
    "\n",
    "𝑟 = Σ((𝑊ᵢ - 𝑊̄)(𝐻ᵢ - 𝐻̄)) / sqrt(Σ(𝑊ᵢ - 𝑊̄)² * Σ(𝐻ᵢ - 𝐻̄)²) ≈ 0.71"
   ]
  },
  {
   "cell_type": "code",
   "execution_count": 24,
   "metadata": {},
   "outputs": [
    {
     "name": "stdout",
     "output_type": "stream",
     "text": [
      "Trung bình cân nặng:  5.396923076923078\n",
      "Trung bình chiều cao:  7.599230769230768\n",
      "Σ((𝑊ᵢ - 𝑊̄)(𝐻ᵢ - 𝐻̄)):  41.00076923076924\n",
      "Σ(𝑊ᵢ - 𝑊̄)²:  50.47227692307692\n",
      "Σ(𝐻ᵢ - 𝐻̄)²:  65.31449230769232\n",
      "sqrt(Σ(𝑊ᵢ - 𝑊̄)² * Σ(𝐻ᵢ - 𝐻̄)²):  57.415774338103496\n",
      "Hệ số tương quan mẫu:  0.7141028698721115\n"
     ]
    }
   ],
   "source": [
    "import math\n",
    "\n",
    "W = [8.63, 4.37, 4.92, 7.59, 7.84, 5.13, 2.82, 6.89, 6.77, 6.06, 3.31, 2.82, 3.01]\n",
    "H = [11.89, 6.97, 6.53, 6.14, 11.22, 8.87, 7.10, 6.85, 7.94, 10.09, 6.21, 4.25, 4.73]\n",
    "\n",
    "# Tính trung bình\n",
    "W_mean = sum(W) / len(W)\n",
    "H_mean = sum(H) / len(H)\n",
    "\n",
    "# Tính Σ((𝑊ᵢ - 𝑊̄)(𝐻ᵢ - 𝐻̄))\n",
    "covariance_sum = 0\n",
    "for i in range(len(W)):\n",
    "    covariance_sum += (W[i] - W_mean) * (H[i] - H_mean)\n",
    "\n",
    "# Tính Σ(𝑊ᵢ - 𝑊̄)² và Σ(𝐻ᵢ - 𝐻̄)²\n",
    "W_squared_sum = sum([(val - W_mean) ** 2 for val in W])\n",
    "H_squared_sum = sum([(val - H_mean) ** 2 for val in H])\n",
    "\n",
    "# Tính hệ số tương quan mẫu\n",
    "correlation_coefficient = covariance_sum / math.sqrt(W_squared_sum * H_squared_sum)\n",
    "\n",
    "print(\"Trung bình cân nặng: \", W_mean)\n",
    "print(\"Trung bình chiều cao: \", H_mean)\n",
    "print(\"Σ((𝑊ᵢ - 𝑊̄)(𝐻ᵢ - 𝐻̄)): \", covariance_sum)\n",
    "print(\"Σ(𝑊ᵢ - 𝑊̄)²: \", W_squared_sum)\n",
    "print(\"Σ(𝐻ᵢ - 𝐻̄)²: \", H_squared_sum)\n",
    "print(\"sqrt(Σ(𝑊ᵢ - 𝑊̄)² * Σ(𝐻ᵢ - 𝐻̄)²): \", math.sqrt(W_squared_sum * H_squared_sum))\n",
    "print(\"Hệ số tương quan mẫu: \", correlation_coefficient)"
   ]
  },
  {
   "attachments": {},
   "cell_type": "markdown",
   "metadata": {},
   "source": [
    "#### b) Kiểm định giả thuyết “𝑊 và 𝐻 có tương quan” bằng kiểm định hệ số tương quan trong scipy\n"
   ]
  },
  {
   "cell_type": "code",
   "execution_count": 26,
   "metadata": {},
   "outputs": [
    {
     "name": "stdout",
     "output_type": "stream",
     "text": [
      "Hệ số tương quan:  0.7141028698721114\n",
      "Giá trị p:  0.006107379630926134\n"
     ]
    }
   ],
   "source": [
    "from scipy.stats import pearsonr\n",
    "\n",
    "W = [8.63, 4.37, 4.92, 7.59, 7.84, 5.13, 2.82, 6.89, 6.77, 6.06, 3.31, 2.82, 3.01]\n",
    "H = [11.89, 6.97, 6.53, 6.14, 11.22, 8.87, 7.10, 6.85, 7.94, 10.09, 6.21, 4.25, 4.73]\n",
    "\n",
    "# Thực hiện kiểm định hệ số tương quan\n",
    "correlation, p_value = pearsonr(W, H)\n",
    "\n",
    "print(\"Hệ số tương quan: \", correlation)\n",
    "print(\"Giá trị p: \", p_value)\n"
   ]
  },
  {
   "attachments": {},
   "cell_type": "markdown",
   "metadata": {},
   "source": [
    "Ta không có đủ bằng chứng để bác bỏ giả thuyết không có tương quan."
   ]
  },
  {
   "attachments": {},
   "cell_type": "markdown",
   "metadata": {},
   "source": [
    "#### c) Dùng kĩ thuật lấy mẫu lại hoán vị, kiểm định giả thuyết “𝑊 và 𝐻 có tương quan” và so sánh kết quả với Câu (b)."
   ]
  },
  {
   "cell_type": "code",
   "execution_count": 34,
   "metadata": {},
   "outputs": [
    {
     "name": "stdout",
     "output_type": "stream",
     "text": [
      "Hệ số tương quan thực tế:  0.7141028698721114\n",
      "Giá trị p:  0.0073\n"
     ]
    }
   ],
   "source": [
    "import numpy as np\n",
    "\n",
    "W = np.array([8.63, 4.37, 4.92, 7.59, 7.84, 5.13, 2.82, 6.89, 6.77, 6.06, 3.31, 2.82, 3.01])\n",
    "H = np.array([11.89, 6.97, 6.53, 6.14, 11.22, 8.87, 7.10, 6.85, 7.94, 10.09, 6.21, 4.25, 4.73])\n",
    "\n",
    "observed_correlation = np.corrcoef(W, H)[0, 1]  # Hệ số tương quan thực tế\n",
    "\n",
    "# Số lần lấy mẫu lại hoán vị\n",
    "num_permutations = 10000\n",
    "\n",
    "permutation_correlations = []\n",
    "\n",
    "for _ in range(num_permutations):\n",
    "    permuted_W = np.random.permutation(W)  # Lấy mẫu lại hoán vị của W\n",
    "    permuted_correlation = np.corrcoef(permuted_W, H)[0, 1]  # Tính hệ số tương quan với mẫu hoán vị\n",
    "    permutation_correlations.append(permuted_correlation)\n",
    "\n",
    "# Tính giá trị p\n",
    "p_value = (np.abs(permutation_correlations) >= np.abs(observed_correlation)).mean()\n",
    "\n",
    "print(\"Hệ số tương quan thực tế: \", observed_correlation)\n",
    "print(\"Giá trị p: \", p_value)\n"
   ]
  },
  {
   "attachments": {},
   "cell_type": "markdown",
   "metadata": {},
   "source": [
    "#### So sánh\n",
    "Hệ số tương quan thực tế giữa 2 thuật toán đều giống nhau."
   ]
  },
  {
   "attachments": {},
   "cell_type": "markdown",
   "metadata": {},
   "source": [
    "# <b>CÂU 2</b>"
   ]
  },
  {
   "attachments": {},
   "cell_type": "markdown",
   "metadata": {},
   "source": [
    "#### a) Tính các giá trị ước lượng 𝑇1, 𝑇2, 𝑇3, 𝑇4, 𝑇5 cho 𝜃 từ mẫu dữ liệu đã cho.\n",
    "Để tính các giá trị ước lượng 𝑇1, 𝑇2, 𝑇3, 𝑇4, 𝑇5 cho 𝜃 từ mẫu dữ liệu đã cho, chúng ta sẽ sử dụng các công thức và định nghĩa đã được cung cấp trong câu hỏi.\n",
    "\n",
    "Đầu tiên, chúng ta cần tính trung bình (𝑋̅) và độ lệch chuẩn (𝑆) của mẫu. Sau đó, chúng ta sẽ tính trung vị (𝑚̂) của mẫu bằng cách sắp xếp lại các giá trị từ bé đến lớn và chọn giá trị ở vị trí giữa (nếu 𝑛 là số lẻ) hoặc trung bình của hai giá trị ở hai vị trí giữa (nếu 𝑛 là số chẵn).\n",
    "\n",
    "Sau đây là các bước chi tiết để tính các giá trị ước lượng:\n",
    "\n",
    "1. Tính trung bình (𝑋̅):\n",
    "\n",
    "2. Tính độ lệch chuẩn (𝑆):\n",
    "\n",
    "3. Tính trung vị (𝑚̂):\n",
    "\n",
    "4. Tính các giá trị ước lượng 𝑇1, 𝑇2, 𝑇3, 𝑇4, 𝑇5 cho 𝜃 từ mẫu dữ liệu đã cho."
   ]
  },
  {
   "cell_type": "code",
   "execution_count": 40,
   "metadata": {},
   "outputs": [
    {
     "name": "stdout",
     "output_type": "stream",
     "text": [
      "T1 = 4.9313\n",
      "T2 = 5.7177\n",
      "T3 = 4.878878961400867\n",
      "T4 = 0.20833333333333334\n",
      "T5 = 4.7188\n"
     ]
    }
   ],
   "source": [
    "import numpy as np\n",
    "\n",
    "# Mẫu dữ liệu đã cho\n",
    "data = [3.1209, 3.6235, 4.4852, 0.2718, 1.6783, 4.1182, 0.7732, 1.0495, 0.2336,\n",
    "        3.4155, 0.8832, 4.2080, 0.2738, 2.7319, 2.9840, 1.1990, 4.3821, 4.3974,\n",
    "        3.0841, 1.6558, 2.8287, 2.8890, 1.4964, 3.3925]\n",
    "\n",
    "n = len(data)  # Kích thước mẫu\n",
    "\n",
    "# Tính các giá trị ước lượng\n",
    "X_bar = np.mean(data)\n",
    "S = np.std(data)\n",
    "m_hat = np.median(data)\n",
    "T1 = 2 * X_bar\n",
    "T2 = 2 * m_hat\n",
    "T3 = 2 * np.sqrt(3) * S\n",
    "T4 = sum([1 if x <= 1 else 0 for x in data]) / n\n",
    "T5 = min(data) + max(data)\n",
    "\n",
    "# In kết quả\n",
    "print(f\"T1 = {T1}\")\n",
    "print(f\"T2 = {T2}\")\n",
    "print(f\"T3 = {T3}\")\n",
    "print(f\"T4 = {T4}\")\n",
    "print(f\"T5 = {T5}\")\n"
   ]
  },
  {
   "attachments": {},
   "cell_type": "markdown",
   "metadata": {},
   "source": [
    "#### b) Dùng kĩ thuật bootstrapping, so sánh sai số chuẩn của các ước lượng trên.\n"
   ]
  },
  {
   "cell_type": "code",
   "execution_count": 44,
   "metadata": {},
   "outputs": [
    {
     "name": "stdout",
     "output_type": "stream",
     "text": [
      "Standard deviation of T1: 0.5805153407227753\n",
      "Standard deviation of T2: 1.0836278319984958\n",
      "Standard deviation of T3: 0.437212833834691\n",
      "Standard deviation of T4: 0.0841504831801009\n",
      "Standard deviation of T5: 0.16069661190675422\n"
     ]
    }
   ],
   "source": [
    "import numpy as np\n",
    "\n",
    "# Mẫu dữ liệu đã cho\n",
    "data = [3.1209, 3.6235, 4.4852, 0.2718, 1.6783, 4.1182, 0.7732, 1.0495, 0.2336,\n",
    "        3.4155, 0.8832, 4.2080, 0.2738, 2.7319, 2.9840, 1.1990, 4.3821, 4.3974,\n",
    "        3.0841, 1.6558, 2.8287, 2.8890, 1.4964, 3.3925]\n",
    "\n",
    "n = len(data)  # Kích thước mẫu\n",
    "num_iterations = 1000  # Số lần lặp lại quá trình bootstrapping\n",
    "\n",
    "T1_estimates = []  # Danh sách các ước lượng T1\n",
    "T2_estimates = []  # Danh sách các ước lượng T2\n",
    "T3_estimates = []  # Danh sách các ước lượng T3\n",
    "T4_estimates = []  # Danh sách các ước lượng T4\n",
    "T5_estimates = []  # Danh sách các ước lượng T5\n",
    "\n",
    "# Thực hiện bootstrapping\n",
    "for _ in range(num_iterations):\n",
    "    bootstrap_sample = np.random.choice(data, size=n, replace=True)  # Tái chọn mẫu\n",
    "    \n",
    "    # Tính các ước lượng trên từ mẫu tái chọn\n",
    "    X_bar = np.mean(bootstrap_sample)\n",
    "    S = np.std(bootstrap_sample)\n",
    "    m_hat = np.median(bootstrap_sample)\n",
    "    T1_estimates.append(2 * X_bar)\n",
    "    T2_estimates.append(2 * m_hat)\n",
    "    T3_estimates.append(2 * np.sqrt(3) * S)\n",
    "    T4_estimates.append(sum([1 if x <= 1 else 0 for x in bootstrap_sample]) / n)\n",
    "    T5_estimates.append(min(bootstrap_sample) + max(bootstrap_sample))\n",
    "\n",
    "# Tính sai số chuẩn của các ước lượng\n",
    "T1_std = np.std(T1_estimates)\n",
    "T2_std = np.std(T2_estimates)\n",
    "T3_std = np.std(T3_estimates)\n",
    "T4_std = np.std(T4_estimates)\n",
    "T5_std = np.std(T5_estimates)\n",
    "\n",
    "# In kết quả\n",
    "print(f\"Standard deviation of T1: {T1_std}\")\n",
    "print(f\"Standard deviation of T2: {T2_std}\")\n",
    "print(f\"Standard deviation of T3: {T3_std}\")\n",
    "print(f\"Standard deviation of T4: {T4_std}\")\n",
    "print(f\"Standard deviation of T5: {T5_std}\")\n"
   ]
  },
  {
   "attachments": {},
   "cell_type": "markdown",
   "metadata": {},
   "source": [
    "#### c) Giả sử ta có thêm thông tin là 𝜃 được sinh từ phân phổi chuẩn với kì vọng 5, độ lệch chuẩn 1. Dùng kĩ thuật suy diễn Bayes để ước lượng 𝜃. So sánh sai số của ước lượng này với các ước lượng trên.\n",
    "Để sử dụng kỹ thuật suy diễn Bayes để ước lượng 𝜃, ta cần áp dụng công thức Bayes và sử dụng phân phối xác suất có điều kiện.\n",
    "\n",
    "Theo đề bài, 𝜃 được sinh từ phân phối chuẩn với kì vọng 5 và độ lệch chuẩn 1. Ta có thể sử dụng phân phối xác suất có điều kiện để ước lượng 𝜃 dựa trên mẫu dữ liệu.\n",
    "\n",
    "Giả sử ta có mẫu dữ liệu 𝑋1, 𝑋2, ..., 𝑋𝑛 từ phân phối 𝒰(0, 𝜃). Với thông tin thêm là 𝜃 được sinh từ phân phối chuẩn với kì vọng 5 và độ lệch chuẩn 1, ta có thể sử dụng kỹ thuật suy diễn Bayes để tính xác suất của 𝜃 dựa trên mẫu dữ liệu.\n",
    "\n",
    "Công thức Bayes cho xác suất có điều kiện:\n",
    "\n",
    "𝑃(𝜃|𝑋1, 𝑋2, ..., 𝑋𝑛) = 𝑃(𝑋1, 𝑋2, ..., 𝑋𝑛|𝜃) * 𝑃(𝜃) / 𝑃(𝑋1, 𝑋2, ..., 𝑋𝑛)\n",
    "\n",
    "Trong đó:\n",
    "- 𝑃(𝜃|𝑋1, 𝑋2, ..., 𝑋𝑛) là xác suất của 𝜃 dựa trên mẫu dữ liệu.\n",
    "- 𝑃(𝑋1, 𝑋2, ..., 𝑋𝑛|𝜃) là xác suất của mẫu dữ liệu dựa trên 𝜃.\n",
    "- 𝑃(𝜃) là xác suất tiền định của 𝜃 (phân phối xác suất của 𝜃 được sinh từ phân phối chuẩn với kì vọng 5 và độ lệch chuẩn 1).\n",
    "- 𝑃(𝑋1, 𝑋2, ..., 𝑋𝑛) là hằng số chuẩn hóa.\n",
    "\n",
    "Để ước lượng 𝜃, ta có thể tính xác suất của 𝜃 dựa trên mẫu dữ liệu sử dụng kỹ thuật suy diễn Bayes. Điều này sẽ cung cấp cho ta một phân phối xác suất của 𝜃 sau khi có thông tin từ mẫu dữ liệu.\n",
    "\n",
    "Để so sánh sai số của ước lượng này với các ước lượng trước đó, ta có thể tính sai số chuẩn của phân phối xác suất của 𝜃 và so sánh nó với sai số chuẩn của các ước lượng trước đó.\n",
    "\n",
    "Tuy nhiên, để tính toán cụ thể các giá trị này, ta cần biết các giá trị cụ thể của mẫu dữ liệu."
   ]
  },
  {
   "cell_type": "code",
   "execution_count": 53,
   "metadata": {},
   "outputs": [
    {
     "name": "stdout",
     "output_type": "stream",
     "text": [
      "Theta estimate: 0.0001\n",
      "Standard deviation of theta estimate: 0.00024855346488431696\n"
     ]
    }
   ],
   "source": [
    "import numpy as np\n",
    "from scipy.stats import norm\n",
    "\n",
    "# Mẫu dữ liệu đã cho\n",
    "data = [3.1209, 3.6235, 4.4852, 0.2718, 1.6783, 4.1182, 0.7732, 1.0495, 0.2336,\n",
    "        3.4155, 0.8832, 4.2080, 0.2738, 2.7319, 2.9840, 1.1990, 4.3821, 4.3974,\n",
    "        3.0841, 1.6558, 2.8287, 2.8890, 1.4964, 3.3925]\n",
    "\n",
    "n = len(data)  # Kích thước mẫu\n",
    "\n",
    "# Phân phối xác suất tiền định của 𝜃 (phân phối chuẩn)\n",
    "prior_mu = 5\n",
    "prior_sigma = 1\n",
    "\n",
    "# Tính xác suất của 𝜃 dựa trên mẫu dữ liệu sử dụng suy diễn Bayes\n",
    "posterior_samples = norm.rvs(loc=prior_mu, scale=prior_sigma, size=10000)  # Tạo mẫu từ phân phối xác suất tiền định\n",
    "likelihoods = np.prod(norm.pdf(data, loc=0, scale=posterior_samples[:, np.newaxis]), axis=1)  # Xác suất của mẫu dữ liệu dựa trên 𝜃\n",
    "posteriors = prior_mu * likelihoods / np.sum(prior_mu * likelihoods)  # Xác suất của 𝜃 dựa trên mẫu dữ liệu (chuẩn hóa)\n",
    "\n",
    "# Tính ước lượng 𝜃 dựa trên phân phối xác suất thu được\n",
    "theta_estimate = np.mean(posteriors)\n",
    "\n",
    "# Tính sai số chuẩn của ước lượng 𝜃\n",
    "theta_std = np.std(posteriors)\n",
    "\n",
    "# In kết quả\n",
    "print(f\"Theta estimate: {theta_estimate}\")\n",
    "print(f\"Standard deviation of theta estimate: {theta_std}\")\n"
   ]
  },
  {
   "attachments": {},
   "cell_type": "markdown",
   "metadata": {},
   "source": [
    "# <b>CÂU 3</b>"
   ]
  },
  {
   "cell_type": "code",
   "execution_count": 18,
   "metadata": {},
   "outputs": [],
   "source": [
    "from sklearn.datasets import fetch_california_housing\n",
    "from sklearn.model_selection import cross_val_score\n",
    "from sklearn.linear_model import LinearRegression, Ridge, Lasso\n",
    "from sklearn.tree import DecisionTreeRegressor\n",
    "from sklearn.ensemble import RandomForestRegressor, GradientBoostingRegressor\n",
    "from sklearn.svm import SVR\n",
    "from sklearn.neural_network import MLPRegressor"
   ]
  },
  {
   "cell_type": "code",
   "execution_count": 19,
   "metadata": {},
   "outputs": [],
   "source": [
    "# Lấy bộ dữ liệu California Housing\n",
    "data = fetch_california_housing()\n",
    "X = data.data  # Đặc trưng\n",
    "y = data.target  # Giá nhà\n"
   ]
  },
  {
   "cell_type": "code",
   "execution_count": 20,
   "metadata": {},
   "outputs": [],
   "source": [
    "# Xác định các mô hình để so sánh\n",
    "models = [\n",
    "    LinearRegression(),\n",
    "    Ridge(),\n",
    "    Lasso(),\n",
    "    RandomForestRegressor(),\n",
    "    GradientBoostingRegressor(),\n",
    "    SVR(),\n",
    "    MLPRegressor()\n",
    "]"
   ]
  },
  {
   "cell_type": "code",
   "execution_count": 21,
   "metadata": {},
   "outputs": [],
   "source": [
    "# Chạy kiểm tra chéo và tính toán điểm số R^2\n",
    "results = []\n",
    "for model in models:\n",
    "    scores = cross_val_score(model, X, y, cv=5, scoring='r2')\n",
    "    results.append((model.__class__.__name__, scores.mean()))"
   ]
  },
  {
   "cell_type": "code",
   "execution_count": 25,
   "metadata": {},
   "outputs": [
    {
     "name": "stdout",
     "output_type": "stream",
     "text": [
      "Model: str, Mean R^2: 0.6698725554829965\n",
      "Model: str, Mean R^2: 0.6496837815751265\n",
      "Model: str, Mean R^2: 0.5530421056931838\n",
      "Model: str, Mean R^2: 0.5530311140279234\n",
      "Model: str, Mean R^2: 0.37601877846605325\n",
      "Model: str, Mean R^2: 0.2035486180756368\n",
      "Model: str, Mean R^2: -0.11011882232910505\n"
     ]
    }
   ],
   "source": [
    "# Sắp xếp theo thứ tự giảm dần của điểm số R^2\n",
    "results.sort(key=lambda x: x[1], reverse=True)\n",
    "\n",
    "# In kết quả\n",
    "for name, score in results:\n",
    "    print(f\"Model: {type(name).__name__}, Mean R^2: {score.mean()}\")\n"
   ]
  }
 ],
 "metadata": {
  "kernelspec": {
   "display_name": "Python 3",
   "language": "python",
   "name": "python3"
  },
  "language_info": {
   "codemirror_mode": {
    "name": "ipython",
    "version": 3
   },
   "file_extension": ".py",
   "mimetype": "text/x-python",
   "name": "python",
   "nbconvert_exporter": "python",
   "pygments_lexer": "ipython3",
   "version": "3.11.3"
  },
  "orig_nbformat": 4,
  "vscode": {
   "interpreter": {
    "hash": "df515c7397437e016ca8f5715290d1712a5cfc8149a05970526c605fb75f36fa"
   }
  }
 },
 "nbformat": 4,
 "nbformat_minor": 2
}
